{
 "cells": [
  {
   "cell_type": "markdown",
   "id": "2a7c3d52",
   "metadata": {},
   "source": [
    "How to Clone and Accessing Repository"
   ]
  },
  {
   "cell_type": "markdown",
   "id": "ac402b76",
   "metadata": {},
   "source": [
    "1. Harus ada Repositori Githubnya dulu lalu copy URL SSH\n",
    "\n",
    "2. Buka Terminal (cmd, powershell, bash) dengan working directory di folder yang mana kita mau nyimpan repository tersebut.\n",
    "\n",
    "3. Dalam terminal gunakan command `git clone <url ssh>`\n",
    "\n",
    "4. Repositori akan terbentuk di folder tersebut"
   ]
  },
  {
   "cell_type": "markdown",
   "id": "195e9e2e",
   "metadata": {},
   "source": [
    "Track and Commit File(s) Changes"
   ]
  },
  {
   "cell_type": "markdown",
   "id": "0f268094",
   "metadata": {},
   "source": [
    "1. Cek status files dalam repositori dengan `git status`\n",
    "\n",
    "2. Untuk track perubahan pada file(s) gunakan `git add <nama file>` untuk 1 file saja atau `git add .` untuk semua file\n",
    "3. kalau cek `git status` lagi file akan berubah jadi tracked dan siap dilakukan commit.\n",
    "4. Untuk menyimpan perubahan lakukan dengan `git commit -m \"message commit\"`\n",
    "(kalau gajadi commit bisa `git reset --mixed` atau `git revert`)\n",
    "5. Untuk Menyimpan perubahan ke repository remote lakukan `git push`"
   ]
  }
 ],
 "metadata": {
  "kernelspec": {
   "display_name": "base",
   "language": "python",
   "name": "python3"
  },
  "language_info": {
   "name": "python",
   "version": "3.13.2"
  }
 },
 "nbformat": 4,
 "nbformat_minor": 5
}
